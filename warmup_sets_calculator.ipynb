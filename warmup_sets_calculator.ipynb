{
 "cells": [
  {
   "cell_type": "code",
   "execution_count": null,
   "id": "2ace66e8-27bb-4292-9bea-39104b3f3c5c",
   "metadata": {},
   "outputs": [],
   "source": [
    "import json\n",
    "import numpy as np\n",
    "import pandas as pd\n",
    "from IPython.display import display\n",
    "from ipywidgets import interact, widgets\n",
    "\n",
    "pd.set_option(\"display.max_rows\", None)\n",
    "pd.set_option(\"display.max_columns\", None)\n",
    "pd.set_option(\"display.width\", None)\n",
    "pd.set_option(\"display.max_colwidth\", None)"
   ]
  },
  {
   "cell_type": "code",
   "execution_count": null,
   "id": "1127d6aa-2033-4a53-8343-12dc847551e2",
   "metadata": {},
   "outputs": [],
   "source": [
    "with open(\"sets-definition.json\") as f:\n",
    "    sets_definition = json.load(f)"
   ]
  },
  {
   "cell_type": "code",
   "execution_count": null,
   "id": "d99718a4-eafe-4f7c-81f7-a9c5e4a68e65",
   "metadata": {},
   "outputs": [],
   "source": [
    "bar_weight_definition = {\n",
    "    \"Olympic Ladies\": 15.0,\n",
    "    \"Olympic Mens\": 20.0,\n",
    "    \"Smith machine\": 11.3,\n",
    "}\n",
    "\n",
    "bar_weight_dropdown = widgets.Dropdown(\n",
    "    options=bar_weight_definition.keys(),\n",
    "    value=\"Olympic Ladies\",\n",
    "    description=\"Bar weight:\",\n",
    "    disabled=False,\n",
    ")"
   ]
  },
  {
   "cell_type": "code",
   "execution_count": null,
   "id": "0e151642-5826-4a19-8873-7ed2d8d074f3",
   "metadata": {},
   "outputs": [],
   "source": [
    "working_weight_input = widgets.BoundedFloatText(\n",
    "    value=0.0,\n",
    "    min=0,\n",
    "    max=200.0,\n",
    "    step=0.1,\n",
    "    description='Working weight:',\n",
    "    disabled=False\n",
    ")"
   ]
  },
  {
   "cell_type": "code",
   "execution_count": null,
   "id": "19ec95d5-2a31-4eee-be89-cbcc0e86c3c9",
   "metadata": {},
   "outputs": [],
   "source": [
    "@interact\n",
    "def calculate_warmup_sets(bar_weight=bar_weight_dropdown, working_weight=working_weight_input):\n",
    "    bar_weight = bar_weight_definition[bar_weight]\n",
    "\n",
    "    sets = pd.DataFrame({})\n",
    "\n",
    "    for warmup_set in sets_definition:\n",
    "        if warmup_set[\"set_num\"] == 1:\n",
    "            tmp_df = pd.DataFrame(\n",
    "                {\n",
    "                    \"Set\": 1,\n",
    "                    \"Reps\": warmup_set[\"reps\"],\n",
    "                    \"Weight(s)\": \"empty bar\",\n",
    "                    \"Min. Weight\": \"\",\n",
    "                    \"Max. Weight\": \"\",\n",
    "                    \"Description\": warmup_set[\"description\"],\n",
    "                },\n",
    "                index=[0],\n",
    "            )\n",
    "    \n",
    "        else:\n",
    "            min_weight = working_weight * warmup_set[\"min_weight_multiplier\"]\n",
    "            max_weight = working_weight * warmup_set[\"max_weight_multiplier\"]\n",
    "            bar_within_range = (bar_weight >= min_weight) and (bar_weight <= max_weight)\n",
    "            bar_above_range = bar_weight >= max_weight\n",
    "    \n",
    "            if bar_within_range or bar_above_range:\n",
    "                continue\n",
    "    \n",
    "            weight_range = np.arange(np.floor(min_weight), np.ceil(max_weight) + 1)\n",
    "            recc_weight = list(filter(lambda x: (x % 2.5 == 0), weight_range))\n",
    "    \n",
    "            if len(recc_weight) == 0:\n",
    "                continue\n",
    "\n",
    "            if str(recc_weight) in sets[\"Weight(s)\"].values:\n",
    "                continue\n",
    "            \n",
    "            tmp_df = pd.DataFrame(\n",
    "                {\n",
    "                    \"Set\": warmup_set[\"set_num\"],\n",
    "                    \"Reps\": warmup_set[\"reps\"],\n",
    "                    \"Weight(s)\": str(recc_weight),\n",
    "                    \"Min. Weight\": min_weight,\n",
    "                    \"Max. Weight\": max_weight,\n",
    "                    \"Description\": warmup_set[\"description\"],\n",
    "                },\n",
    "                index=[0],\n",
    "            )\n",
    "                \n",
    "        sets = pd.concat([sets, tmp_df], ignore_index=True)\n",
    "    \n",
    "    if len(sets) < len(sets_definition):\n",
    "        sets[\"Set\"] = np.arange(1, len(sets) + 1)\n",
    "    \n",
    "    sets.set_index(\"Set\", inplace=True)\n",
    "\n",
    "    display(sets)"
   ]
  }
 ],
 "metadata": {
  "kernelspec": {
   "display_name": "Python 3 (ipykernel)",
   "language": "python",
   "name": "python3"
  },
  "language_info": {
   "codemirror_mode": {
    "name": "ipython",
    "version": 3
   },
   "file_extension": ".py",
   "mimetype": "text/x-python",
   "name": "python",
   "nbconvert_exporter": "python",
   "pygments_lexer": "ipython3",
   "version": "3.10.12"
  }
 },
 "nbformat": 4,
 "nbformat_minor": 5
}
