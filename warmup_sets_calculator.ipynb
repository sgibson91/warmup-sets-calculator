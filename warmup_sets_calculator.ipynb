{
 "cells": [
  {
   "cell_type": "code",
   "execution_count": null,
   "id": "2ace66e8-27bb-4292-9bea-39104b3f3c5c",
   "metadata": {},
   "outputs": [],
   "source": [
    "import json\n",
    "import numpy as np\n",
    "import pandas as pd"
   ]
  },
  {
   "cell_type": "code",
   "execution_count": null,
   "id": "1127d6aa-2033-4a53-8343-12dc847551e2",
   "metadata": {},
   "outputs": [],
   "source": [
    "with open(\"sets-definition.json\") as f:\n",
    "    sets_definition = json.load(f)"
   ]
  },
  {
   "cell_type": "code",
   "execution_count": null,
   "id": "69cf714f-80c9-4ff8-a371-3bf80f757159",
   "metadata": {},
   "outputs": [],
   "source": [
    "bar_weight = 15.0\n",
    "working_weight = 70.0"
   ]
  },
  {
   "cell_type": "code",
   "execution_count": null,
   "id": "0bfceeb0-3938-483f-b595-e6a9416d19df",
   "metadata": {},
   "outputs": [],
   "source": [
    "for warmup_set in sets_definition:\n",
    "    if warmup_set[\"set_num\"] == 1:\n",
    "        pass\n",
    "    else:\n",
    "        min_weight = working_weight * warmup_set[\"min_weight_multiplier\"]\n",
    "        max_weight = working_weight * warmup_set[\"max_weight_multiplier\"]\n",
    "        bar_within_range = (bar_weight >= min_weight) and (bar_weight <= max_weight)\n",
    "\n",
    "        if bar_within_range:\n",
    "            continue\n",
    "\n",
    "        weight_range = np.arange(np.floor(min_weight), np.ceil(max_weight) + 1)\n",
    "        recc_weight = list(filter(lambda x: (x % 5 == 0), weight_range))\n",
    "\n",
    "        if len(recc_weight) == 0:\n",
    "            continue\n",
    "\n",
    "        print(\"Reccommended weight(s):\", recc_weight, \"Min weight:\", min_weight, \"Max weight:\", max_weight)"
   ]
  },
  {
   "cell_type": "code",
   "execution_count": null,
   "id": "19f54e8f-864e-47c4-9a85-43b0c450ae40",
   "metadata": {},
   "outputs": [],
   "source": []
  }
 ],
 "metadata": {
  "kernelspec": {
   "display_name": "Python 3 (ipykernel)",
   "language": "python",
   "name": "python3"
  },
  "language_info": {
   "codemirror_mode": {
    "name": "ipython",
    "version": 3
   },
   "file_extension": ".py",
   "mimetype": "text/x-python",
   "name": "python",
   "nbconvert_exporter": "python",
   "pygments_lexer": "ipython3",
   "version": "3.10.12"
  }
 },
 "nbformat": 4,
 "nbformat_minor": 5
}
